{
 "cells": [
  {
   "cell_type": "code",
   "execution_count": 62,
   "metadata": {},
   "outputs": [],
   "source": [
    "import os\n",
    "import glob\n",
    "import psycopg2\n",
    "import pandas as pd\n",
    "\n",
    "conn = psycopg2.connect(\"host=127.0.0.1 dbname=COVID19_Taiwan user=postgres  password=aritek168\")\n",
    "cur = conn.cursor()\n"
   ]
  },
  {
   "cell_type": "code",
   "execution_count": 57,
   "metadata": {},
   "outputs": [
    {
     "name": "stdout",
     "output_type": "stream",
     "text": [
      "Create covid 19 tables successfully\n"
     ]
    }
   ],
   "source": [
    "def drop_create(cur, conn):\n",
    "    drop_table_query1 = \"DROP TABLE IF EXISTS covid19_cases_daily\"\n",
    "    drop_table_query2 = \"DROP TABLE IF EXISTS covid19_suspect_daily\"\n",
    "    \n",
    "    create_table_query1 = \"\"\"\n",
    "    CREATE TABLE IF NOT EXISTS covid19_cases_daily \n",
    "    (id SERIAL PRIMARY KEY,\n",
    "    個案研判日 date NOT NULL,\n",
    "    縣市 text,\n",
    "    性別 text,\n",
    "    境外移入 text,\n",
    "    年齡層 text,\n",
    "    確定病例數 int NOT NULL)\"\"\"\n",
    "\n",
    "    create_table_query2 = \"\"\"\n",
    "    CREATE TABLE IF NOT EXISTS covid19_suspect_daily \n",
    "    (id SERIAL,\n",
    "    通報日 date PRIMARY KEY,\n",
    "    擴大監測送驗 int,\n",
    "    居家檢疫送驗 int,\n",
    "    法定傳染病通報 int,\n",
    "    Total int NOT NULL)\"\"\"\n",
    "    \n",
    "    cur.execute(drop_table_query1)\n",
    "    cur.execute(drop_table_query2)\n",
    "    cur.execute(create_table_query1)\n",
    "    cur.execute(create_table_query2)\n",
    "    conn.commit()\n",
    "    \n",
    "    print('Create covid 19 tables successfully')    \n",
    "    \n",
    "drop_create(cur, conn)"
   ]
  },
  {
   "cell_type": "code",
   "execution_count": 58,
   "metadata": {
    "scrolled": true
   },
   "outputs": [
    {
     "name": "stdout",
     "output_type": "stream",
     "text": [
      "Successfully insert suspect data to database\n"
     ]
    }
   ],
   "source": [
    "def insert_table(cur, conn, df_cases, df_suspect):  \n",
    "    \n",
    "    query1 = \"\"\"\n",
    "    INSERT into covid19_cases_daily (個案研判日, 縣市, 性別, 境外移入, 年齡層, 確定病例數) \n",
    "    VALUES(%s, %s, %s, %s, %s, %s)\n",
    "    ON CONFLICT DO NOTHING;\n",
    "    \"\"\"\n",
    "    query2 = \"\"\"\n",
    "    INSERT into covid19_suspect_daily (通報日, 擴大監測送驗, 居家檢疫送驗, 法定傳染病通報, Total) \n",
    "    VALUES(%s, %s, %s, %s, %s)\n",
    "    ON CONFLICT (通報日) DO UPDATE SET \n",
    "    擴大監測送驗 = EXCLUDED.擴大監測送驗, \n",
    "    居家檢疫送驗 = EXCLUDED.居家檢疫送驗,\n",
    "    法定傳染病通報 = EXCLUDED.法定傳染病通報,\n",
    "    Total = EXCLUDED.Total;\n",
    "    \"\"\"\n",
    "    \n",
    "    if df_cases.shape[0] > 0:\n",
    "        for index, row in df_cases.iterrows():\n",
    "            insert_cases = [row.個案研判日, row.縣市, row.性別, row.是否為境外移入, row.年齡層, row.確定病例數]\n",
    "            cur.execute(query1, insert_cases)\n",
    "            conn.commit()\n",
    "        print('Successfully insert cases data to database')\n",
    "\n",
    "    if df_suspect.shape[0] > 0:\n",
    "        for index, row in df_suspect.iterrows():\n",
    "            insert_suspect = [row.通報日, row.擴大監測送驗, row.居家檢疫送驗, row.法定傳染病通報, row.Total]\n",
    "            cur.execute(query2, insert_suspect)\n",
    "            conn.commit()    \n",
    "        print('Successfully insert suspect data to database')\n",
    "insert_table(cur, conn, df1, df2)"
   ]
  },
  {
   "cell_type": "code",
   "execution_count": 24,
   "metadata": {},
   "outputs": [],
   "source": [
    "import pandas as pd\n",
    "import numpy as np\n",
    "df1 = pd.read_json('https://od.cdc.gov.tw/eic/Day_Confirmation_Age_County_Gender_19CoV.json')\n"
   ]
  },
  {
   "cell_type": "code",
   "execution_count": 38,
   "metadata": {},
   "outputs": [
    {
     "data": {
      "text/plain": [
       "559"
      ]
     },
     "execution_count": 38,
     "metadata": {},
     "output_type": "execute_result"
    }
   ],
   "source": [
    "import pandas as pd\n",
    "import numpy as np\n",
    "df2 = pd.read_csv('https://od.cdc.gov.tw/eic/covid19/covid19_tw_specimen.csv')\n"
   ]
  },
  {
   "cell_type": "code",
   "execution_count": 63,
   "metadata": {
    "scrolled": true
   },
   "outputs": [
    {
     "name": "stdout",
     "output_type": "stream",
     "text": [
      "Covid19 cases daily dataset updated\n",
      "Successfully insert suspect data to database\n",
      "Covid19 suspect daily dataset updated\n"
     ]
    }
   ],
   "source": [
    "import datetime   \n",
    "def update_table(cur, conn):\n",
    "    cur.execute(\"\"\"SELECT max(個案研判日) FROM covid19_cases_daily\"\"\")\n",
    "    results1 = cur.fetchone()[0]\n",
    "    df1 = pd.read_json('https://od.cdc.gov.tw/eic/Day_Confirmation_Age_County_Gender_19CoV.json')\n",
    "    df1['個案研判日'] = pd.to_datetime(df1['個案研判日'])\n",
    "    to_update_case = df1[df1['個案研判日'] > datetime.datetime(results1.year, results1.month, results1.day) - datetime.timedelta(3)]\n",
    "    \n",
    "    print('Covid19 cases daily dataset updated')\n",
    "    \n",
    "    cur.execute(\"\"\"SELECT max(通報日) FROM covid19_suspect_daily\"\"\")\n",
    "    results2 = cur.fetchone()[0]\n",
    "    df2 = pd.read_csv('https://od.cdc.gov.tw/eic/covid19/covid19_tw_specimen.csv')\n",
    "    df2['通報日'] = pd.to_datetime(df2['通報日'])\n",
    "    to_update_suspect = df2[df2['通報日'] > datetime.datetime(results2.year, results2.month, results2.day) - datetime.timedelta(3)]\n",
    "    \n",
    "    insert_table(cur, conn, to_update_case, to_update_suspect)\n",
    "    print('Covid19 suspect daily dataset updated')\n",
    "\n",
    "update_table(cur, conn)"
   ]
  },
  {
   "cell_type": "code",
   "execution_count": 16,
   "metadata": {},
   "outputs": [],
   "source": [
    "df['通報日'] = pd.to_datetime(df['通報日'])\n",
    "to_update = df[df['通報日'] > datetime.datetime(2021, 7, 1) -  datetime.timedelta(3)]\n"
   ]
  },
  {
   "cell_type": "code",
   "execution_count": 23,
   "metadata": {},
   "outputs": [
    {
     "data": {
      "text/plain": [
       "datetime.datetime(2021, 6, 28, 0, 0)"
      ]
     },
     "execution_count": 23,
     "metadata": {},
     "output_type": "execute_result"
    }
   ],
   "source": [
    "datetime.datetime(2021, 7, 1) -  datetime.timedelta(3)"
   ]
  },
  {
   "cell_type": "code",
   "execution_count": null,
   "metadata": {},
   "outputs": [],
   "source": []
  }
 ],
 "metadata": {
  "kernelspec": {
   "display_name": "Python 3",
   "language": "python",
   "name": "python3"
  },
  "language_info": {
   "codemirror_mode": {
    "name": "ipython",
    "version": 3
   },
   "file_extension": ".py",
   "mimetype": "text/x-python",
   "name": "python",
   "nbconvert_exporter": "python",
   "pygments_lexer": "ipython3",
   "version": "3.7.4"
  }
 },
 "nbformat": 4,
 "nbformat_minor": 2
}
